{
 "cells": [
  {
   "cell_type": "markdown",
   "metadata": {},
   "source": [
    "# Decision Tree"
   ]
  },
  {
   "cell_type": "code",
   "execution_count": 1,
   "metadata": {},
   "outputs": [],
   "source": [
    "import pandas as pd\n",
    "import matplotlib.pyplot as plt\n",
    "import sklearn\n",
    "from sklearn.model_selection import cross_val_score, KFold\n",
    "from sklearn.tree import DecisionTreeRegressor\n",
    "from sklearn.pipeline import make_pipeline\n",
    "\n",
    "from helpers import per_station_models_cross_val_mean, load_all_processed_data, ManualFeatureSelector\n",
    "\n",
    "pd.set_option('display.max_columns', None)"
   ]
  },
  {
   "cell_type": "code",
   "execution_count": 2,
   "metadata": {},
   "outputs": [],
   "source": [
    "import glob\n",
    "import os\n",
    "\n",
    "df = load_all_processed_data()\n",
    "\n",
    "# # if bikes_3h_ago is missing then assume number of bikes hasn't changed\n",
    "# df['bikes_3h_ago'] = df['bikes_3h_ago'].fillna(df['bikes'])\n",
    "\n",
    "# # use station & weekhour group means to fill in missing profile and 3h ago values\n",
    "# for column in ['bikes_3h_ago', 'full_profile_3h_diff_bikes', 'full_profile_bikes']:\n",
    "#     df[column] = df.groupby(['station', 'weekhour'])[column].transform(lambda x: x.fillna(x.mean()))"
   ]
  },
  {
   "cell_type": "markdown",
   "metadata": {},
   "source": [
    "## Default DecisionTreeRegressor"
   ]
  },
  {
   "cell_type": "code",
   "execution_count": 3,
   "metadata": {},
   "outputs": [
    {
     "name": "stdout",
     "output_type": "stream",
     "text": [
      "[-2.24014337 -2.27365591 -2.27616487 -2.24327957 -2.28351254]\n",
      "-2.2633512544802867\n"
     ]
    }
   ],
   "source": [
    "X = df.drop(columns=['bikes'])\n",
    "y = df['bikes']\n",
    "\n",
    "regr = make_pipeline(ManualFeatureSelector(['latitude', 'longitude', 'weekhour', 'windMeanSpeed.m.s', 'relHumidity.HR', 'airPressure.mb', 'hour', 'day', 'windMaxSpeed.m.s']), DecisionTreeRegressor())\n",
    "\n",
    "scores = cross_val_score(regr, X, y, cv=KFold(n_splits=5, shuffle=True), scoring='neg_mean_absolute_error')\n",
    "\n",
    "print(scores)\n",
    "print(scores.mean())"
   ]
  },
  {
   "cell_type": "code",
   "execution_count": 4,
   "metadata": {},
   "outputs": [
    {
     "name": "stdout",
     "output_type": "stream",
     "text": [
      "-2.092013906523974\n"
     ]
    }
   ],
   "source": [
    "regr = make_pipeline(ManualFeatureSelector(['weekhour', 'temperature.C', 'windMeanSpeed.m.s', 'relHumidity.HR', 'airPressure.mb', 'hour', 'day', 'windMaxSpeed.m.s']), DecisionTreeRegressor())\n",
    "\n",
    "score = per_station_models_cross_val_mean(regr, df)\n",
    "print(score)"
   ]
  },
  {
   "cell_type": "code",
   "execution_count": null,
   "metadata": {},
   "outputs": [],
   "source": []
  }
 ],
 "metadata": {
  "kernelspec": {
   "display_name": "Python 3",
   "language": "python",
   "name": "python3"
  },
  "language_info": {
   "codemirror_mode": {
    "name": "ipython",
    "version": 3
   },
   "file_extension": ".py",
   "mimetype": "text/x-python",
   "name": "python",
   "nbconvert_exporter": "python",
   "pygments_lexer": "ipython3",
   "version": "3.8.5"
  }
 },
 "nbformat": 4,
 "nbformat_minor": 4
}
