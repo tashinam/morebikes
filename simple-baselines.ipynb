{
 "cells": [
  {
   "cell_type": "markdown",
   "metadata": {},
   "source": [
    "# Simple baselines"
   ]
  },
  {
   "cell_type": "code",
   "execution_count": 1,
   "metadata": {},
   "outputs": [],
   "source": [
    "import sklearn\n",
    "from sklearn.model_selection import cross_val_score"
   ]
  },
  {
   "cell_type": "code",
   "execution_count": 2,
   "metadata": {},
   "outputs": [],
   "source": [
    "import glob\n",
    "import os\n",
    "import pandas as pd\n",
    "import matplotlib.pyplot as plt\n",
    "\n",
    "pd.set_option('display.max_columns', None)\n",
    "\n",
    "all_files = all_files = glob.glob(os.path.join('Train/Train', '*.csv'))\n",
    "df = pd.concat((pd.read_csv(f) for f in all_files), ignore_index=True)"
   ]
  },
  {
   "cell_type": "markdown",
   "metadata": {},
   "source": [
    "## Predict value from 3h ago (ie bikes_3h_ago)"
   ]
  },
  {
   "cell_type": "markdown",
   "metadata": {},
   "source": [
    "First fill in missing values of bikes_3h_ago from early in the data set using the mean of the values from the same station and weekhour (assuming here there's some weekly pattern in bike usage)."
   ]
  },
  {
   "cell_type": "code",
   "execution_count": 3,
   "metadata": {},
   "outputs": [],
   "source": [
    "df['bikes_3h_ago'] = df.groupby(['station', 'weekhour']).bikes_3h_ago.transform(lambda x: x.fillna(x.mean()))"
   ]
  },
  {
   "cell_type": "markdown",
   "metadata": {},
   "source": [
    "Remove the entries with no bikes value from when the clocks change (one per station)"
   ]
  },
  {
   "cell_type": "code",
   "execution_count": 4,
   "metadata": {},
   "outputs": [],
   "source": [
    "df = df[df['bikes'].isna() != True]"
   ]
  },
  {
   "cell_type": "markdown",
   "metadata": {},
   "source": [
    "Shuffle the data"
   ]
  },
  {
   "cell_type": "code",
   "execution_count": 5,
   "metadata": {},
   "outputs": [],
   "source": [
    "df = sklearn.utils.shuffle(df)"
   ]
  },
  {
   "cell_type": "code",
   "execution_count": 6,
   "metadata": {},
   "outputs": [],
   "source": [
    "class Baseline(sklearn.base.BaseEstimator):\n",
    "    def __init__(self, column):\n",
    "        self.column = column\n",
    "        \n",
    "    def fit(self, X, y):\n",
    "        pass\n",
    "    def predict(self, X):\n",
    "        return X[self.column]\n"
   ]
  },
  {
   "cell_type": "code",
   "execution_count": 7,
   "metadata": {},
   "outputs": [
    {
     "name": "stdout",
     "output_type": "stream",
     "text": [
      "[-3.27115442 -3.25831093 -3.30951314 -3.26560633 -3.28142174]\n",
      "-3.277201314217444\n"
     ]
    }
   ],
   "source": [
    "regr = Baseline('bikes_3h_ago')\n",
    "scores = cross_val_score(regr, df, df.bikes, cv=5, scoring='neg_mean_absolute_error')\n",
    "\n",
    "print(scores)\n",
    "print(scores.mean())"
   ]
  },
  {
   "cell_type": "markdown",
   "metadata": {},
   "source": [
    "## Predict full_profile_bikes\n",
    "\n",
    "1. Fill in missing values of full_profile_bikes\n",
    "2. Shuffle data\n",
    "3. Remove entries with no bikes value from when clocks change (one per station)"
   ]
  },
  {
   "cell_type": "code",
   "execution_count": 8,
   "metadata": {},
   "outputs": [
    {
     "name": "stdout",
     "output_type": "stream",
     "text": [
      "[-3.3362505  -3.30197755 -3.30360041 -3.36674072 -3.31194245]\n",
      "-3.3241023247710073\n"
     ]
    }
   ],
   "source": [
    "df['full_profile_bikes'] = df.groupby(['station', 'weekhour']).full_profile_bikes.transform(lambda x: x.fillna(x.mean()))\n",
    "df = df[df['bikes'].isna() != True]\n",
    "df = sklearn.utils.shuffle(df)\n",
    "\n",
    "regr = Baseline('full_profile_bikes')\n",
    "scores = cross_val_score(regr, df, df.bikes, cv=5, scoring='neg_mean_absolute_error')\n",
    "\n",
    "print(scores)\n",
    "print(scores.mean())"
   ]
  },
  {
   "cell_type": "markdown",
   "metadata": {},
   "source": [
    "## 3 hours ago plus full_profile_3h_diff_bikes\n",
    "So attempt to adjust the value from 3 hours ago with the mean change seen at the station at the same time of the week\n",
    "\n",
    "1. Fill early empty full_profile_3h_diff_bikes values. This time filling with 0 for now.\n",
    "2. Remove entries with target value missing\n",
    "3. Shuffle data\n",
    "4. Add column that is sum of bikes_3h_ago and full_profile_3h_diff_bikes\n",
    "5. Use this new column as Baseline"
   ]
  },
  {
   "cell_type": "code",
   "execution_count": 9,
   "metadata": {},
   "outputs": [
    {
     "name": "stdout",
     "output_type": "stream",
     "text": [
      "[-3.04696087 -3.03126493 -2.98303465 -2.96600956 -3.04823775]\n",
      "-3.0151015531660694\n"
     ]
    }
   ],
   "source": [
    "df['full_profile_3h_diff_bikes'] = df.full_profile_3h_diff_bikes.fillna(0)\n",
    "# df['full_profile_3h_diff_bikes'] = df.groupby(['station', 'weekhour']).full_profile_3h_diff_bikes.transform(lambda x: x.fillna(x.mean()))\n",
    "\n",
    "df['3h_plus_diff'] = df['bikes_3h_ago'] + df['full_profile_3h_diff_bikes']\n",
    "df = df[df['bikes'].isna() != True]\n",
    "df = sklearn.utils.shuffle(df)\n",
    "\n",
    "regr = Baseline('3h_plus_diff')\n",
    "scores = cross_val_score(regr, df, df.bikes, cv=5, scoring='neg_mean_absolute_error')\n",
    "\n",
    "print(scores)\n",
    "print(scores.mean())"
   ]
  }
 ],
 "metadata": {
  "kernelspec": {
   "display_name": "Python 3",
   "language": "python",
   "name": "python3"
  },
  "language_info": {
   "codemirror_mode": {
    "name": "ipython",
    "version": 3
   },
   "file_extension": ".py",
   "mimetype": "text/x-python",
   "name": "python",
   "nbconvert_exporter": "python",
   "pygments_lexer": "ipython3",
   "version": "3.8.5"
  }
 },
 "nbformat": 4,
 "nbformat_minor": 4
}
