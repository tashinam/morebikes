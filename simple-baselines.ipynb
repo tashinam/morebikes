{
 "cells": [
  {
   "cell_type": "markdown",
   "metadata": {},
   "source": [
    "# Simple baselines"
   ]
  },
  {
   "cell_type": "code",
   "execution_count": 1,
   "metadata": {},
   "outputs": [],
   "source": [
    "import sklearn\n",
    "from sklearn.model_selection import cross_val_score, KFold\n",
    "\n",
    "import pandas as pd\n",
    "import matplotlib.pyplot as plt\n",
    "from helpers import Baseline, per_station_models_cross_val_mean, load_all_processed_data\n",
    "\n",
    "pd.set_option('display.max_columns', None)"
   ]
  },
  {
   "cell_type": "code",
   "execution_count": 2,
   "metadata": {},
   "outputs": [],
   "source": [
    "df = load_all_processed_data()"
   ]
  },
  {
   "cell_type": "markdown",
   "metadata": {},
   "source": [
    "## Predict value from 3h ago (ie bikes_3h_ago)"
   ]
  },
  {
   "cell_type": "markdown",
   "metadata": {},
   "source": [
    "First fill in missing values of bikes_3h_ago from early in the data set using the mean of the values from the same station and weekhour (assuming here there's some weekly pattern in bike usage)."
   ]
  },
  {
   "cell_type": "code",
   "execution_count": 12,
   "metadata": {},
   "outputs": [
    {
     "name": "stdout",
     "output_type": "stream",
     "text": [
      "-3.277201314217443\n"
     ]
    }
   ],
   "source": [
    "df['bikes_3h_ago'] = df.groupby(['station', 'weekhour']).bikes_3h_ago.transform(lambda x: x.fillna(x.mean()))\n",
    "\n",
    "regr = Baseline('bikes_3h_ago')\n",
    "scores = cross_val_score(regr, df, df.bikes, cv=KFold(n_splits=5, shuffle=True), scoring='neg_mean_absolute_error')\n",
    "\n",
    "print(scores.mean())"
   ]
  },
  {
   "cell_type": "code",
   "execution_count": 13,
   "metadata": {},
   "outputs": [
    {
     "name": "stdout",
     "output_type": "stream",
     "text": [
      "-3.277124150996634\n"
     ]
    }
   ],
   "source": [
    "df['bikes_3h_ago'] = df.groupby(['station', 'weekhour']).bikes_3h_ago.transform(lambda x: x.fillna(x.mean()))\n",
    "\n",
    "regr = Baseline('bikes_3h_ago')\n",
    "\n",
    "score = per_station_models_cross_val_mean(Baseline('bikes_3h_ago'), df)\n",
    "print(score)"
   ]
  },
  {
   "cell_type": "markdown",
   "metadata": {},
   "source": [
    "## Predict full_profile_bikes\n",
    "\n",
    "1. Fill in missing values of full_profile_bikes"
   ]
  },
  {
   "cell_type": "code",
   "execution_count": 6,
   "metadata": {},
   "outputs": [
    {
     "name": "stdout",
     "output_type": "stream",
     "text": [
      "[-3.35697991 -3.30680319 -3.32330185 -3.3213243  -3.31210237]\n",
      "-3.3241023247710073\n"
     ]
    }
   ],
   "source": [
    "df['full_profile_bikes'] = df.groupby(['station', 'weekhour']).full_profile_bikes.transform(lambda x: x.fillna(x.mean()))\n",
    "\n",
    "regr = Baseline('full_profile_bikes')\n",
    "scores = cross_val_score(regr, df, df.bikes, cv=KFold(n_splits=5, shuffle=True), scoring='neg_mean_absolute_error')\n",
    "\n",
    "print(scores)\n",
    "print(scores.mean())"
   ]
  },
  {
   "cell_type": "code",
   "execution_count": 7,
   "metadata": {},
   "outputs": [
    {
     "name": "stdout",
     "output_type": "stream",
     "text": [
      "-3.3241019719383815\n"
     ]
    }
   ],
   "source": [
    "df['full_profile_bikes'] = df.groupby(['station', 'weekhour']).full_profile_bikes.transform(lambda x: x.fillna(x.mean()))\n",
    "\n",
    "regr = Baseline('full_profile_bikes')\n",
    "\n",
    "score = per_station_models_cross_val_mean(regr, df)\n",
    "print(score)"
   ]
  },
  {
   "cell_type": "markdown",
   "metadata": {},
   "source": [
    "## 3 hours ago plus full_profile_3h_diff_bikes\n",
    "So attempt to adjust the value from 3 hours ago with the mean change seen at the station at the same time of the week\n",
    "\n",
    "1. Fill early empty full_profile_3h_diff_bikes values. This time filling with 0 for now.\n",
    "2. Add column that is sum of bikes_3h_ago and full_profile_3h_diff_bikes\n",
    "3. Use this new column as Baseline"
   ]
  },
  {
   "cell_type": "code",
   "execution_count": 10,
   "metadata": {},
   "outputs": [
    {
     "name": "stdout",
     "output_type": "stream",
     "text": [
      "[-3.0062724  -3.01493429 -2.99301822 -3.02810633 -3.03317652]\n",
      "-3.01510155316607\n"
     ]
    }
   ],
   "source": [
    "df['full_profile_3h_diff_bikes'] = df.full_profile_3h_diff_bikes.fillna(0)\n",
    "# df['full_profile_3h_diff_bikes'] = df.groupby(['station', 'weekhour']).full_profile_3h_diff_bikes.transform(lambda x: x.fillna(x.mean()))\n",
    "\n",
    "df['3h_plus_diff'] = df['bikes_3h_ago'] + df['full_profile_3h_diff_bikes']\n",
    "\n",
    "regr = Baseline('3h_plus_diff')\n",
    "scores = cross_val_score(regr, df, df.bikes, cv=KFold(n_splits=5, shuffle=True), scoring='neg_mean_absolute_error')\n",
    "\n",
    "print(scores)\n",
    "print(scores.mean())"
   ]
  },
  {
   "cell_type": "markdown",
   "metadata": {},
   "source": [
    "See a ~10% reduction in MAE with this combination of bikes_3h_ago and the rolling diff at similar times of the week"
   ]
  },
  {
   "cell_type": "code",
   "execution_count": 11,
   "metadata": {},
   "outputs": [
    {
     "name": "stdout",
     "output_type": "stream",
     "text": [
      "-3.0151336940967814\n"
     ]
    }
   ],
   "source": [
    "df['full_profile_3h_diff_bikes'] = df.full_profile_3h_diff_bikes.fillna(0)\n",
    "# df['full_profile_3h_diff_bikes'] = df.groupby(['station', 'weekhour']).full_profile_3h_diff_bikes.transform(lambda x: x.fillna(x.mean()))\n",
    "\n",
    "df['3h_plus_diff'] = df['bikes_3h_ago'] + df['full_profile_3h_diff_bikes']\n",
    "\n",
    "regr = Baseline('3h_plus_diff')\n",
    "\n",
    "score = per_station_models_cross_val_mean(regr, df)\n",
    "print(score)"
   ]
  }
 ],
 "metadata": {
  "kernelspec": {
   "display_name": "Python 3",
   "language": "python",
   "name": "python3"
  },
  "language_info": {
   "codemirror_mode": {
    "name": "ipython",
    "version": 3
   },
   "file_extension": ".py",
   "mimetype": "text/x-python",
   "name": "python",
   "nbconvert_exporter": "python",
   "pygments_lexer": "ipython3",
   "version": "3.8.5"
  }
 },
 "nbformat": 4,
 "nbformat_minor": 4
}
