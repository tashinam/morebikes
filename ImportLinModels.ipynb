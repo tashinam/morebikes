{
 "cells": [
  {
   "cell_type": "code",
   "execution_count": 1,
   "metadata": {},
   "outputs": [],
   "source": [
    "import pandas as pd\n",
    "import numpy as np\n",
    "from helpers import load_all_processed_data\n",
    "\n",
    "pd.set_option('display.max_columns', None)"
   ]
  },
  {
   "cell_type": "code",
   "execution_count": 2,
   "metadata": {},
   "outputs": [],
   "source": [
    "lin_model_df = pd.read_csv('Models/Models/model_station_1_rlm_full.csv').set_index('feature').transpose()"
   ]
  },
  {
   "cell_type": "code",
   "execution_count": 3,
   "metadata": {},
   "outputs": [],
   "source": [
    "df = load_all_processed_data()"
   ]
  },
  {
   "cell_type": "code",
   "execution_count": 4,
   "metadata": {},
   "outputs": [],
   "source": [
    "# fill in missing values used by linear models with per station and weekhour average\n",
    "df['bikes_3h_ago'] = df.groupby(['station', 'weekhour']).bikes_3h_ago.transform(lambda x: x.fillna(x.mean()))\n",
    "df['full_profile_3h_diff_bikes'] = df.groupby(['station', 'weekhour']).full_profile_3h_diff_bikes.transform(lambda x: x.fillna(x.mean()))\n",
    "df['full_profile_bikes'] = df.groupby(['station', 'weekhour']).full_profile_bikes.transform(lambda x: x.fillna(x.mean()))\n",
    "df['short_profile_bikes'] = df.groupby(['station', 'weekhour']).short_profile_bikes.transform(lambda x: x.fillna(x.mean()))\n",
    "df['short_profile_3h_diff_bikes'] = df.groupby(['station', 'weekhour']).short_profile_3h_diff_bikes.transform(lambda x: x.fillna(x.mean()))"
   ]
  },
  {
   "cell_type": "code",
   "execution_count": 5,
   "metadata": {},
   "outputs": [],
   "source": [
    "# returns linear model in form of a function to call on a dataframe returning a nparray with a value per row in dataframe\n",
    "def lin_model(model_df):\n",
    "    coeffs = model_df.to_dict()\n",
    "    \n",
    "    def f(X):\n",
    "        y = 0\n",
    "        for key, value in coeffs.items():\n",
    "            if key == '(Intercept)':\n",
    "                y = y + value['weight']\n",
    "            else:\n",
    "                y = y + X[key] * value['weight'] \n",
    "        return  y\n",
    "    \n",
    "    return f"
   ]
  },
  {
   "cell_type": "code",
   "execution_count": 6,
   "metadata": {},
   "outputs": [
    {
     "data": {
      "text/plain": [
       "0         2.155123\n",
       "1         1.602163\n",
       "2         1.974613\n",
       "3         1.788947\n",
       "4         1.902293\n",
       "           ...    \n",
       "55795    11.134901\n",
       "55796    10.066212\n",
       "55797     9.129010\n",
       "55798    10.883649\n",
       "55799     7.466786\n",
       "Length: 55800, dtype: float64"
      ]
     },
     "execution_count": 6,
     "metadata": {},
     "output_type": "execute_result"
    }
   ],
   "source": [
    "lin_model(lin_model_df)(df)"
   ]
  },
  {
   "cell_type": "code",
   "execution_count": 7,
   "metadata": {},
   "outputs": [
    {
     "data": {
      "text/plain": [
       "station                                220\n",
       "latitude                           39.4584\n",
       "longitude                        -0.344496\n",
       "numDocks                                15\n",
       "timestamp                      1.41479e+09\n",
       "year                                  2014\n",
       "month                                   10\n",
       "day                                     31\n",
       "hour                                    23\n",
       "weekday                             Friday\n",
       "weekhour                               120\n",
       "isHoliday                                0\n",
       "windMaxSpeed.m.s                       4.8\n",
       "windMeanSpeed.m.s                      1.6\n",
       "windDirection.grades                 157.5\n",
       "temperature.C                         19.1\n",
       "relHumidity.HR                          86\n",
       "airPressure.mb                      1024.1\n",
       "bikes_3h_ago                            12\n",
       "full_profile_3h_diff_bikes           -2.75\n",
       "full_profile_bikes                       6\n",
       "short_profile_3h_diff_bikes          -2.75\n",
       "short_profile_bikes                      6\n",
       "bikes                                    4\n",
       "Name: 55799, dtype: object"
      ]
     },
     "execution_count": 7,
     "metadata": {},
     "output_type": "execute_result"
    }
   ],
   "source": [
    "df.iloc[55799]"
   ]
  },
  {
   "cell_type": "code",
   "execution_count": 8,
   "metadata": {},
   "outputs": [
    {
     "data": {
      "text/plain": [
       "{'(Intercept)': {'weight': 0.240571911655513},\n",
       " 'bikes_3h_ago': {'weight': 0.519823466637759},\n",
       " 'full_profile_bikes': {'weight': 0.342836970019425},\n",
       " 'full_profile_3h_diff_bikes': {'weight': 0.388614128668747}}"
      ]
     },
     "execution_count": 8,
     "metadata": {},
     "output_type": "execute_result"
    }
   ],
   "source": [
    "lin_model_df.to_dict()"
   ]
  },
  {
   "cell_type": "code",
   "execution_count": 9,
   "metadata": {},
   "outputs": [
    {
     "data": {
      "text/plain": [
       "7.466786477586117"
      ]
     },
     "execution_count": 9,
     "metadata": {},
     "output_type": "execute_result"
    }
   ],
   "source": [
    "0.240571911655513 + 0.519823466637759*12 + 0.342836970019425*6 + 0.388614128668747*-2.75"
   ]
  },
  {
   "cell_type": "code",
   "execution_count": 10,
   "metadata": {},
   "outputs": [],
   "source": [
    "modelled_stations = np.arange(1, 201)"
   ]
  },
  {
   "cell_type": "code",
   "execution_count": 11,
   "metadata": {},
   "outputs": [],
   "source": [
    "model_types = ['full_temp', 'full', 'short_full_temp', 'short_full', 'short_temp', 'short']"
   ]
  },
  {
   "cell_type": "code",
   "execution_count": 12,
   "metadata": {},
   "outputs": [],
   "source": [
    "model_names = [f'model_station_{station_id}_rlm_{model_type}' for station_id in modelled_stations for model_type in model_types]"
   ]
  },
  {
   "cell_type": "code",
   "execution_count": 13,
   "metadata": {},
   "outputs": [
    {
     "name": "stderr",
     "output_type": "stream",
     "text": [
      "100%|██████████| 1200/1200 [00:11<00:00, 104.34it/s]\n"
     ]
    }
   ],
   "source": [
    "from tqdm import tqdm\n",
    "for model_name in tqdm(model_names):\n",
    "    model_df = pd.read_csv(f'Models/Models/{model_name}.csv').set_index('feature').transpose()\n",
    "    df[model_name] = lin_model(model_df)(df)"
   ]
  },
  {
   "cell_type": "code",
   "execution_count": 14,
   "metadata": {},
   "outputs": [],
   "source": [
    "df['models_min'] = df[model_names].min(axis=1)\n",
    "df['models_mean'] = df[model_names].mean(axis=1)\n",
    "df['models_max'] = df[model_names].max(axis=1)\n",
    "df['models_std'] = df[model_names].std(axis=1)"
   ]
  },
  {
   "cell_type": "code",
   "execution_count": 15,
   "metadata": {},
   "outputs": [],
   "source": [
    "df[['station']+model_names].to_csv('Processed/phase2.csv', index=False)"
   ]
  },
  {
   "cell_type": "code",
   "execution_count": 16,
   "metadata": {},
   "outputs": [],
   "source": [
    "df.to_csv('Processed/phase3.csv', index=False)"
   ]
  },
  {
   "cell_type": "code",
   "execution_count": null,
   "metadata": {},
   "outputs": [],
   "source": []
  }
 ],
 "metadata": {
  "kernelspec": {
   "display_name": "Python 3",
   "language": "python",
   "name": "python3"
  },
  "language_info": {
   "codemirror_mode": {
    "name": "ipython",
    "version": 3
   },
   "file_extension": ".py",
   "mimetype": "text/x-python",
   "name": "python",
   "nbconvert_exporter": "python",
   "pygments_lexer": "ipython3",
   "version": "3.8.5"
  }
 },
 "nbformat": 4,
 "nbformat_minor": 4
}
