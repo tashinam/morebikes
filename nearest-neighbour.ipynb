{
 "cells": [
  {
   "cell_type": "markdown",
   "metadata": {},
   "source": [
    "# Nearest neighbours"
   ]
  },
  {
   "cell_type": "code",
   "execution_count": 27,
   "metadata": {},
   "outputs": [],
   "source": [
    "import sklearn\n",
    "from sklearn.model_selection import cross_val_score\n",
    "from sklearn.neighbors import KNeighborsRegressor\n",
    "from sklearn.pipeline import make_pipeline, make_union\n",
    "from sklearn.preprocessing import MinMaxScaler, StandardScaler\n",
    "\n",
    "from helpers import per_station_models_cross_val_mean, load_all_processed_data, ManualFeatureSelector\n"
   ]
  },
  {
   "cell_type": "code",
   "execution_count": 4,
   "metadata": {},
   "outputs": [],
   "source": [
    "import glob\n",
    "import os\n",
    "import pandas as pd\n",
    "import matplotlib.pyplot as plt\n",
    "\n",
    "pd.set_option('display.max_columns', None)\n",
    "\n",
    "all_files = all_files = glob.glob(os.path.join('Processed', '*.csv'))\n",
    "df = pd.concat((pd.read_csv(f) for f in all_files), ignore_index=True)"
   ]
  },
  {
   "cell_type": "markdown",
   "metadata": {},
   "source": [
    "## Default KNeighborsRegressor\n",
    "\n",
    "1. shuffle data\n",
    "2. Extract lat, long and weekhour features (tempospatial nearest neighbour)\n",
    "3. Cross value"
   ]
  },
  {
   "cell_type": "code",
   "execution_count": 21,
   "metadata": {},
   "outputs": [],
   "source": [
    "# station_id = 249\n",
    "# df = df[df.station == station_id]\n",
    "df = sklearn.utils.shuffle(df)\n",
    "df[\"pct_full\"] = df.bikes/df.numDocks\n",
    "\n",
    "X = df[['latitude', 'longitude', 'weekhour', 'numDocks']]\n",
    "y = df['bikes']"
   ]
  },
  {
   "cell_type": "code",
   "execution_count": 10,
   "metadata": {},
   "outputs": [
    {
     "name": "stdout",
     "output_type": "stream",
     "text": [
      "[-3.90451613 -4.00543011 -3.88062724 -3.87860215 -3.93591398]\n",
      "-3.921017921146954\n"
     ]
    }
   ],
   "source": [
    "regr = KNeighborsRegressor()\n",
    "\n",
    "scores = cross_val_score(regr, X, y, cv=5, scoring='neg_mean_absolute_error')\n",
    "\n",
    "print(scores)\n",
    "print(scores.mean())"
   ]
  },
  {
   "cell_type": "code",
   "execution_count": 14,
   "metadata": {},
   "outputs": [
    {
     "name": "stdout",
     "output_type": "stream",
     "text": [
      "[-3.32277778 -3.36077061 -3.34062724 -3.29731183 -3.25084229]\n",
      "-3.3144659498207885\n"
     ]
    }
   ],
   "source": [
    "regr = make_pipeline(MinMaxScaler(), KNeighborsRegressor())\n",
    "\n",
    "scores = cross_val_score(regr, X, y, cv=5, scoring='neg_mean_absolute_error')\n",
    "\n",
    "print(scores)\n",
    "print(scores.mean())"
   ]
  },
  {
   "cell_type": "code",
   "execution_count": 13,
   "metadata": {},
   "outputs": [
    {
     "name": "stdout",
     "output_type": "stream",
     "text": [
      "[-3.34792115 -3.35209677 -3.33969534 -3.31654122 -3.30663082]\n",
      "-3.332577060931899\n"
     ]
    }
   ],
   "source": [
    "regr = make_pipeline(StandardScaler(), KNeighborsRegressor())\n",
    "\n",
    "scores = cross_val_score(regr, X, y, cv=5, scoring='neg_mean_absolute_error')\n",
    "\n",
    "print(scores)\n",
    "print(scores.mean())"
   ]
  },
  {
   "cell_type": "markdown",
   "metadata": {},
   "source": [
    "Let's try predicting what percentage full the station is in order to normalize across stations then converting to mean absolute error on the number of bikes at score time"
   ]
  },
  {
   "cell_type": "code",
   "execution_count": 22,
   "metadata": {},
   "outputs": [
    {
     "name": "stdout",
     "output_type": "stream",
     "text": [
      "[-3.81498088 -3.85014337 -3.79047043 -3.8246595  -3.8724552 ]\n",
      "-3.8305418757467145\n"
     ]
    }
   ],
   "source": [
    "def neg_mae_from_percent(estimator, X, y):\n",
    "    return -abs(X.numDocks * (estimator.predict(X) - y)).mean()\n",
    "\n",
    "regr = KNeighborsRegressor()\n",
    "y = df['pct_full']\n",
    "scores = cross_val_score(regr, X, y, cv=5, scoring=neg_mae_from_percent)\n",
    "\n",
    "print(scores)\n",
    "print(scores.mean())"
   ]
  },
  {
   "cell_type": "code",
   "execution_count": 43,
   "metadata": {},
   "outputs": [
    {
     "name": "stdout",
     "output_type": "stream",
     "text": [
      "[-3.2794086  -3.3422043  -3.31286738 -3.34413978 -3.3916129 ]\n",
      "-3.334046594982079\n"
     ]
    }
   ],
   "source": [
    "transformer = make_union(\n",
    "    make_pipeline(\n",
    "        ManualFeatureSelector(['latitude', 'longitude', 'weekhour']),\n",
    "        StandardScaler()\n",
    "    ),\n",
    "    make_pipeline(\n",
    "        ManualFeatureSelector(['numDocks'])\n",
    "    )\n",
    ")\n",
    "regr = make_pipeline(\n",
    "    transformer,\n",
    "    KNeighborsRegressor()\n",
    ")\n",
    "y = df['pct_full']\n",
    "scores = cross_val_score(regr, X, y, cv=5, scoring=neg_mae_from_percent)\n",
    "\n",
    "print(scores)\n",
    "print(scores.mean())"
   ]
  },
  {
   "cell_type": "code",
   "execution_count": 39,
   "metadata": {},
   "outputs": [
    {
     "name": "stdout",
     "output_type": "stream",
     "text": [
      "[-0.20264103 -0.20429291 -0.20247106 -0.20365299 -0.20530213]\n",
      "-0.20367202262871725\n"
     ]
    }
   ],
   "source": [
    "regr = KNeighborsRegressor()\n",
    "y = df['pct_full']\n",
    "scores = cross_val_score(regr, X, y, cv=5, scoring='neg_mean_absolute_error')\n",
    "\n",
    "print(scores)\n",
    "print(scores.mean())"
   ]
  },
  {
   "cell_type": "code",
   "execution_count": null,
   "metadata": {},
   "outputs": [],
   "source": []
  }
 ],
 "metadata": {
  "kernelspec": {
   "display_name": "Python 3",
   "language": "python",
   "name": "python3"
  },
  "language_info": {
   "codemirror_mode": {
    "name": "ipython",
    "version": 3
   },
   "file_extension": ".py",
   "mimetype": "text/x-python",
   "name": "python",
   "nbconvert_exporter": "python",
   "pygments_lexer": "ipython3",
   "version": "3.8.5"
  }
 },
 "nbformat": 4,
 "nbformat_minor": 4
}
