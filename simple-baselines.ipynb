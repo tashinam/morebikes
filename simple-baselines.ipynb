{
 "cells": [
  {
   "cell_type": "markdown",
   "metadata": {},
   "source": [
    "# Simple baselines"
   ]
  },
  {
   "cell_type": "code",
   "execution_count": 1,
   "metadata": {},
   "outputs": [],
   "source": [
    "import sklearn\n",
    "from sklearn.model_selection import cross_val_score"
   ]
  },
  {
   "cell_type": "code",
   "execution_count": 2,
   "metadata": {},
   "outputs": [],
   "source": [
    "import glob\n",
    "import os\n",
    "import pandas as pd\n",
    "import matplotlib.pyplot as plt\n",
    "\n",
    "pd.set_option('display.max_columns', None)\n",
    "\n",
    "all_files = all_files = glob.glob(os.path.join('Processed', '*.csv'))\n",
    "df = pd.concat((pd.read_csv(f) for f in all_files), ignore_index=True)"
   ]
  },
  {
   "cell_type": "markdown",
   "metadata": {},
   "source": [
    "## Predict value from 3h ago (ie bikes_3h_ago)"
   ]
  },
  {
   "cell_type": "markdown",
   "metadata": {},
   "source": [
    "First fill in missing values of bikes_3h_ago from early in the data set using the mean of the values from the same station and weekhour (assuming here there's some weekly pattern in bike usage)."
   ]
  },
  {
   "cell_type": "code",
   "execution_count": 3,
   "metadata": {},
   "outputs": [],
   "source": [
    "df['bikes_3h_ago'] = df.groupby(['station', 'weekhour']).bikes_3h_ago.transform(lambda x: x.fillna(x.mean()))"
   ]
  },
  {
   "cell_type": "markdown",
   "metadata": {},
   "source": [
    "Shuffle the data"
   ]
  },
  {
   "cell_type": "code",
   "execution_count": 4,
   "metadata": {},
   "outputs": [],
   "source": [
    "df = sklearn.utils.shuffle(df)"
   ]
  },
  {
   "cell_type": "code",
   "execution_count": 5,
   "metadata": {},
   "outputs": [],
   "source": [
    "class Baseline(sklearn.base.BaseEstimator):\n",
    "    def __init__(self, column):\n",
    "        self.column = column\n",
    "        \n",
    "    def fit(self, X, y):\n",
    "        pass\n",
    "    def predict(self, X):\n",
    "        return X[self.column]\n"
   ]
  },
  {
   "cell_type": "code",
   "execution_count": 6,
   "metadata": {},
   "outputs": [
    {
     "name": "stdout",
     "output_type": "stream",
     "text": [
      "[-3.28294504 -3.3479764  -3.25244176 -3.26084229 -3.24180108]\n",
      "-3.277201314217443\n"
     ]
    }
   ],
   "source": [
    "regr = Baseline('bikes_3h_ago')\n",
    "scores = cross_val_score(regr, df, df.bikes, cv=5, scoring='neg_mean_absolute_error')\n",
    "\n",
    "print(scores)\n",
    "print(scores.mean())"
   ]
  },
  {
   "cell_type": "markdown",
   "metadata": {},
   "source": [
    "## Predict full_profile_bikes\n",
    "\n",
    "1. Fill in missing values of full_profile_bikes\n",
    "2. Shuffle data"
   ]
  },
  {
   "cell_type": "code",
   "execution_count": 7,
   "metadata": {},
   "outputs": [
    {
     "name": "stdout",
     "output_type": "stream",
     "text": [
      "[-3.34071709 -3.35279147 -3.30447282 -3.26926959 -3.35326065]\n",
      "-3.3241023247710073\n"
     ]
    }
   ],
   "source": [
    "df['full_profile_bikes'] = df.groupby(['station', 'weekhour']).full_profile_bikes.transform(lambda x: x.fillna(x.mean()))\n",
    "df = sklearn.utils.shuffle(df)\n",
    "\n",
    "regr = Baseline('full_profile_bikes')\n",
    "scores = cross_val_score(regr, df, df.bikes, cv=5, scoring='neg_mean_absolute_error')\n",
    "\n",
    "print(scores)\n",
    "print(scores.mean())"
   ]
  },
  {
   "cell_type": "markdown",
   "metadata": {},
   "source": [
    "## 3 hours ago plus full_profile_3h_diff_bikes\n",
    "So attempt to adjust the value from 3 hours ago with the mean change seen at the station at the same time of the week\n",
    "\n",
    "1. Fill early empty full_profile_3h_diff_bikes values. This time filling with 0 for now.\n",
    "2. Shuffle data\n",
    "3. Add column that is sum of bikes_3h_ago and full_profile_3h_diff_bikes\n",
    "4. Use this new column as Baseline"
   ]
  },
  {
   "cell_type": "code",
   "execution_count": 8,
   "metadata": {},
   "outputs": [
    {
     "name": "stdout",
     "output_type": "stream",
     "text": [
      "[-3.00198626 -3.00926673 -3.04877539 -2.970908   -3.04457139]\n",
      "-3.01510155316607\n"
     ]
    }
   ],
   "source": [
    "df['full_profile_3h_diff_bikes'] = df.full_profile_3h_diff_bikes.fillna(0)\n",
    "# df['full_profile_3h_diff_bikes'] = df.groupby(['station', 'weekhour']).full_profile_3h_diff_bikes.transform(lambda x: x.fillna(x.mean()))\n",
    "\n",
    "df['3h_plus_diff'] = df['bikes_3h_ago'] + df['full_profile_3h_diff_bikes']\n",
    "df = sklearn.utils.shuffle(df)\n",
    "\n",
    "regr = Baseline('3h_plus_diff')\n",
    "scores = cross_val_score(regr, df, df.bikes, cv=5, scoring='neg_mean_absolute_error')\n",
    "\n",
    "print(scores)\n",
    "print(scores.mean())"
   ]
  },
  {
   "cell_type": "markdown",
   "metadata": {},
   "source": [
    "See a ~10% reduction in MAE with this combination of bikes_3h_ago and the rolling diff at similar times of the week"
   ]
  },
  {
   "cell_type": "code",
   "execution_count": null,
   "metadata": {},
   "outputs": [],
   "source": []
  }
 ],
 "metadata": {
  "kernelspec": {
   "display_name": "Python 3",
   "language": "python",
   "name": "python3"
  },
  "language_info": {
   "codemirror_mode": {
    "name": "ipython",
    "version": 3
   },
   "file_extension": ".py",
   "mimetype": "text/x-python",
   "name": "python",
   "nbconvert_exporter": "python",
   "pygments_lexer": "ipython3",
   "version": "3.8.5"
  }
 },
 "nbformat": 4,
 "nbformat_minor": 4
}
