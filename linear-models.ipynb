{
 "cells": [
  {
   "cell_type": "markdown",
   "metadata": {},
   "source": [
    "# Linear models"
   ]
  },
  {
   "cell_type": "code",
   "execution_count": 28,
   "metadata": {},
   "outputs": [],
   "source": [
    "import pandas as pd\n",
    "import numpy as np\n",
    "import matplotlib.pyplot as plt\n",
    "import sklearn\n",
    "from sklearn.model_selection import cross_val_score, KFold\n",
    "from sklearn.linear_model import LinearRegression, Lasso, Ridge\n",
    "\n",
    "from helpers import per_station_models_cross_val_mean, load_all_processed_data, ManualFeatureSelector\n",
    "\n",
    "pd.set_option('display.max_columns', None)"
   ]
  },
  {
   "cell_type": "code",
   "execution_count": 29,
   "metadata": {},
   "outputs": [],
   "source": [
    "import glob\n",
    "import os\n",
    "\n",
    "df = load_all_processed_data()\n",
    "\n",
    "# if bikes_3h_ago is missing then assume number of bikes hasn't changed\n",
    "df['bikes_3h_ago'] = df['bikes_3h_ago'].fillna(df['bikes'])\n",
    "\n",
    "# # use station & weekhour group means to fill in missing profile and 3h ago values\n",
    "for column in ['bikes_3h_ago', 'full_profile_3h_diff_bikes', 'full_profile_bikes']:\n",
    "    df[column] = df.groupby(['station', 'weekhour'])[column].transform(lambda x: x.fillna(x.mean()))"
   ]
  },
  {
   "cell_type": "code",
   "execution_count": 30,
   "metadata": {},
   "outputs": [],
   "source": [
    "def single_model_regr(lin_model=LinearRegression()):\n",
    "    features = ['bikes_3h_ago', 'full_profile_3h_diff_bikes', 'full_profile_bikes', 'weekhour', 'temperature.C', 'windMeanSpeed.m.s', 'relHumidity.HR', 'airPressure.mb', 'hour', 'day', 'windMaxSpeed.m.s']\n",
    "    return make_pipeline(ManualFeatureSelector(features), lin_model)\n",
    "\n",
    "def per_station_model_regr(lin_model=LinearRegression()):\n",
    "    features = ['bikes_3h_ago', 'full_profile_3h_diff_bikes', 'full_profile_bikes', 'weekhour', 'temperature.C', 'windMeanSpeed.m.s', 'relHumidity.HR', 'airPressure.mb', 'hour', 'day', 'windMaxSpeed.m.s']\n",
    "    return make_pipeline(ManualFeatureSelector(features), lin_model)"
   ]
  },
  {
   "cell_type": "markdown",
   "metadata": {},
   "source": [
    "## Default LinearRegression"
   ]
  },
  {
   "cell_type": "code",
   "execution_count": 31,
   "metadata": {},
   "outputs": [
    {
     "name": "stdout",
     "output_type": "stream",
     "text": [
      "[-2.41751236 -2.38583146 -2.40872898 -2.43888591 -2.43588448]\n",
      "-2.4173686381069603\n"
     ]
    }
   ],
   "source": [
    "X = df.drop(columns=['bikes'])\n",
    "y = df['bikes']\n",
    "\n",
    "scores = cross_val_score(single_model_regr(), X, y, cv=KFold(n_splits=5, shuffle=True), scoring='neg_mean_absolute_error')\n",
    "\n",
    "print(scores)\n",
    "print(scores.mean())"
   ]
  },
  {
   "cell_type": "code",
   "execution_count": 32,
   "metadata": {},
   "outputs": [
    {
     "name": "stdout",
     "output_type": "stream",
     "text": [
      "-2.3242606151431207\n"
     ]
    }
   ],
   "source": [
    "score = per_station_models_cross_val_mean(per_station_model_regr(), df)\n",
    "print(score)"
   ]
  },
  {
   "cell_type": "markdown",
   "metadata": {},
   "source": [
    "# Lasso regression"
   ]
  },
  {
   "cell_type": "code",
   "execution_count": 33,
   "metadata": {},
   "outputs": [
    {
     "name": "stdout",
     "output_type": "stream",
     "text": [
      "[-2.44658645 -2.40865589 -2.41150741 -2.41667611 -2.42187835]\n",
      "-2.4210608435647716\n"
     ]
    }
   ],
   "source": [
    "X = df.drop(columns=['bikes'])\n",
    "y = df['bikes']\n",
    "\n",
    "scores = cross_val_score(single_model_regr(Lasso(alpha=0.1)), X, y, cv=KFold(n_splits=5, shuffle=True), scoring='neg_mean_absolute_error')\n",
    "\n",
    "print(scores)\n",
    "print(scores.mean())"
   ]
  },
  {
   "cell_type": "code",
   "execution_count": 34,
   "metadata": {},
   "outputs": [
    {
     "name": "stdout",
     "output_type": "stream",
     "text": [
      "-2.3265785195570734\n"
     ]
    }
   ],
   "source": [
    "score = per_station_models_cross_val_mean(per_station_model_regr(Lasso(alpha=0.1)), df)\n",
    "print(score)"
   ]
  },
  {
   "cell_type": "markdown",
   "metadata": {},
   "source": [
    "# Ridge regression"
   ]
  },
  {
   "cell_type": "code",
   "execution_count": 35,
   "metadata": {},
   "outputs": [
    {
     "name": "stdout",
     "output_type": "stream",
     "text": [
      "[-2.44645508 -2.41957706 -2.41347559 -2.36493263 -2.44092418]\n",
      "-2.4170729072463337\n"
     ]
    }
   ],
   "source": [
    "X = df.drop(columns=['bikes'])\n",
    "y = df['bikes']\n",
    "\n",
    "scores = cross_val_score(single_model_regr(Ridge(alpha=0.5)), X, y, cv=KFold(n_splits=5, shuffle=True), scoring='neg_mean_absolute_error')\n",
    "\n",
    "print(scores)\n",
    "print(scores.mean())"
   ]
  },
  {
   "cell_type": "code",
   "execution_count": 36,
   "metadata": {},
   "outputs": [
    {
     "name": "stdout",
     "output_type": "stream",
     "text": [
      "-2.3226427340364215\n"
     ]
    }
   ],
   "source": [
    "score = per_station_models_cross_val_mean(per_station_model_regr(Ridge(alpha=0.5)), df)\n",
    "print(score)"
   ]
  },
  {
   "cell_type": "markdown",
   "metadata": {},
   "source": [
    "# Test submissions"
   ]
  },
  {
   "cell_type": "code",
   "execution_count": 37,
   "metadata": {},
   "outputs": [],
   "source": [
    "from datetime import datetime\n",
    "\n",
    "dft = pd.read_csv('test.csv')\n",
    "\n",
    "X = df.drop(columns=['bikes'])\n",
    "y = df['bikes']\n",
    "\n",
    "regr = single_model_regr(Lasso(alpha=0.1))\n",
    "\n",
    "model = regr.fit(X,y)\n",
    "dft['bikes'] = model.predict(dft)\n",
    "\n",
    "time = datetime.now().strftime(\"%d%H%M%S\")\n",
    "\n",
    "dft[['Id', 'bikes']].to_csv(f'Predictions/single_model_submission_{time}.csv',index=False)"
   ]
  },
  {
   "cell_type": "code",
   "execution_count": 38,
   "metadata": {},
   "outputs": [],
   "source": [
    "from datetime import datetime\n",
    "\n",
    "dft = pd.read_csv('test.csv')\n",
    "\n",
    "predictions_dfs = []\n",
    "\n",
    "for station in np.arange(201, 276):\n",
    "    stationdf = df[df['station'] == station]\n",
    "    test_stationdf = dft[dft['station'] == station].copy()\n",
    "    \n",
    "    X = stationdf.drop(columns=['bikes'])\n",
    "    y = stationdf.bikes\n",
    "    \n",
    "    regr = per_station_model_regr(Lasso(alpha=0.1))\n",
    "\n",
    "    model = regr.fit(X,y)\n",
    "    test_stationdf['bikes'] = model.predict(test_stationdf).astype(int)\n",
    "    predictions_dfs.append(test_stationdf[['Id', 'bikes']])\n",
    "\n",
    "predictions_df = pd.concat(predictions_dfs)\n",
    "    \n",
    "time = datetime.now().strftime(\"%d%H%M%S\")\n",
    "\n",
    "predictions_df.to_csv(f'Predictions/per_station_models_submission_{time}.csv',index=False)"
   ]
  },
  {
   "cell_type": "code",
   "execution_count": null,
   "metadata": {},
   "outputs": [],
   "source": []
  }
 ],
 "metadata": {
  "kernelspec": {
   "display_name": "Python 3",
   "language": "python",
   "name": "python3"
  },
  "language_info": {
   "codemirror_mode": {
    "name": "ipython",
    "version": 3
   },
   "file_extension": ".py",
   "mimetype": "text/x-python",
   "name": "python",
   "nbconvert_exporter": "python",
   "pygments_lexer": "ipython3",
   "version": "3.8.5"
  }
 },
 "nbformat": 4,
 "nbformat_minor": 4
}
